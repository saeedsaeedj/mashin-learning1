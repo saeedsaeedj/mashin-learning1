{
 "cells": [
  {
   "cell_type": "code",
   "execution_count": 2,
   "metadata": {},
   "outputs": [],
   "source": [
    "import numpy as np \n",
    "import matplotlib.pyplot as plt\n",
    "%matplotlib inline"
   ]
  },
  {
   "cell_type": "code",
   "execution_count": 3,
   "metadata": {},
   "outputs": [],
   "source": [
    "x5=np.random.rand(1,5)*20"
   ]
  },
  {
   "cell_type": "code",
   "execution_count": 4,
   "metadata": {},
   "outputs": [
    {
     "data": {
      "text/plain": [
       "array([[ 1.95337301,  1.23399869, 10.71012248, 19.33739671,  5.27644608]])"
      ]
     },
     "execution_count": 4,
     "metadata": {},
     "output_type": "execute_result"
    }
   ],
   "source": [
    "x5"
   ]
  },
  {
   "cell_type": "code",
   "execution_count": 5,
   "metadata": {},
   "outputs": [],
   "source": [
    "y5 = 2.358 * x5 - 3.121\n",
    "y5 = y5 + np.random.normal(scale=3, size=y5.shape)\n",
    "x5=x5.reshape(-1,1)\n",
    "y5=y5.reshape(-1,1)\n",
    "dataset5 = np.hstack((x5, y5))\n",
    "MSE = np.zeros ((4 , 11))"
   ]
  },
  {
   "cell_type": "code",
   "execution_count": 6,
   "metadata": {},
   "outputs": [],
   "source": [
    "x10=(np.random.rand(1,10)*20)\n",
    "y10 = 2.358 * x10 - 3.121\n",
    "x10=x10.reshape(-1,1)\n",
    "y10=y10.reshape(-1,1)\n",
    "y10 = y10 + np.random.normal(scale=3, size=y10.shape)\n",
    "dataset10 = np.hstack((x10, y10))"
   ]
  },
  {
   "cell_type": "code",
   "execution_count": 7,
   "metadata": {},
   "outputs": [],
   "source": [
    "x25=np.random.rand(1,25)*20\n",
    "y25 = 2.358 * x25 - 3.121\n",
    "x25=x25.reshape(-1,1)\n",
    "y25=y25.reshape(-1,1)\n",
    "y25 = y25 + np.random.normal(scale=3, size=y25.shape)\n",
    "dataset25 = np.hstack((x25, y25))"
   ]
  },
  {
   "cell_type": "code",
   "execution_count": 8,
   "metadata": {},
   "outputs": [],
   "source": [
    "x100=np.random.rand(1,100)*20\n",
    "y100 = 2.358 * x100 - 3.121\n",
    "x100=x100.reshape(-1,1)\n",
    "y100=y100.reshape(-1,1)\n",
    "y100 = y100 + np.random.normal(scale=3, size=y100.shape)\n",
    "dataset100 = np.hstack((x100, y100))"
   ]
  },
  {
   "cell_type": "code",
   "execution_count": 9,
   "metadata": {},
   "outputs": [],
   "source": [
    "from sklearn.linear_model import LinearRegression \n",
    "model5 = LinearRegression() \n",
    "model5.fit(x5, y5) \n",
    "h5  = model5.predict(x5)"
   ]
  },
  {
   "cell_type": "code",
   "execution_count": 10,
   "metadata": {},
   "outputs": [],
   "source": [
    "MSE5=np.mean((y5-h5)**2)/2"
   ]
  },
  {
   "cell_type": "markdown",
   "metadata": {},
   "source": [
    "MSE5"
   ]
  },
  {
   "cell_type": "code",
   "execution_count": 11,
   "metadata": {},
   "outputs": [
    {
     "data": {
      "text/plain": [
       "0.9660331233134962"
      ]
     },
     "execution_count": 11,
     "metadata": {},
     "output_type": "execute_result"
    }
   ],
   "source": [
    "model5.score(x5,y5)"
   ]
  },
  {
   "cell_type": "code",
   "execution_count": 12,
   "metadata": {},
   "outputs": [
    {
     "data": {
      "text/plain": [
       "0.9660331233134962"
      ]
     },
     "execution_count": 12,
     "metadata": {},
     "output_type": "execute_result"
    }
   ],
   "source": [
    "1-(2*MSE5/y5.var())"
   ]
  },
  {
   "cell_type": "code",
   "execution_count": 13,
   "metadata": {},
   "outputs": [
    {
     "data": {
      "text/plain": [
       "array([[2.47146126]])"
      ]
     },
     "execution_count": 13,
     "metadata": {},
     "output_type": "execute_result"
    }
   ],
   "source": [
    "model5.coef_"
   ]
  },
  {
   "cell_type": "code",
   "execution_count": 14,
   "metadata": {},
   "outputs": [
    {
     "data": {
      "text/plain": [
       "[<matplotlib.lines.Line2D at 0x1b11bf28>]"
      ]
     },
     "execution_count": 14,
     "metadata": {},
     "output_type": "execute_result"
    },
    {
     "data": {
      "image/png": "[encoded data removed]",
      "text/plain": [
       "<Figure size 432x288 with 1 Axes>"
      ]
     },
     "metadata": {
      "needs_background": "light"
     },
     "output_type": "display_data"
    }
   ],
   "source": [
    "plt.plot(x5,y5,'bo')\n",
    "plt.plot(x5,h5,'r--')"
   ]
  },
  {
   "cell_type": "code",
   "execution_count": 15,
   "metadata": {},
   "outputs": [
    {
     "name": "stdout",
     "output_type": "stream",
     "text": [
      "model score  10 is :  0.9313324996632696\n",
      "model coef  10 is :  [[2.32851112]]\n",
      "MSE IS 10 :  0.9276990381694707\n"
     ]
    },
    {
     "data": {
      "text/plain": [
       "[<matplotlib.lines.Line2D at 0x1b11b7a8>]"
      ]
     },
     "execution_count": 15,
     "metadata": {},
     "output_type": "execute_result"
    },
    {
     "data": {
      "image/png": "[encoded data removed]",
      "text/plain": [
       "<Figure size 432x288 with 1 Axes>"
      ]
     },
     "metadata": {
      "needs_background": "light"
     },
     "output_type": "display_data"
    }
   ],
   "source": [
    "from sklearn.linear_model import LinearRegression \n",
    "model10 = LinearRegression() \n",
    "model10.fit(x10, y10) \n",
    "h10  = model5.predict(x10)\n",
    "MSE10=(1-((2*np.mean((y10-h10)**2)/2))/y10.var())\n",
    "\n",
    "print('model score  10 is : ',model10.score(x10,y10))\n",
    "print('model coef  10 is : ',model10.coef_)\n",
    "print('MSE IS 10 : ', MSE10)\n",
    "plt.plot(x10,y10,'bo')\n",
    "plt.plot(x10,h10,'r--')"
   ]
  },
  {
   "cell_type": "code",
   "execution_count": 16,
   "metadata": {},
   "outputs": [
    {
     "name": "stdout",
     "output_type": "stream",
     "text": [
      "model score  25 is :  0.9476166832713068\n",
      "model coef 25 is :  [[2.57585621]]\n",
      "MSE IS 25 :  0.9476166832713068\n"
     ]
    },
    {
     "data": {
      "text/plain": [
       "[<matplotlib.lines.Line2D at 0x1c22af10>]"
      ]
     },
     "execution_count": 16,
     "metadata": {},
     "output_type": "execute_result"
    },
    {
     "data": {
      "image/png": "[encoded data removed]",
      "text/plain": [
       "<Figure size 432x288 with 1 Axes>"
      ]
     },
     "metadata": {
      "needs_background": "light"
     },
     "output_type": "display_data"
    }
   ],
   "source": [
    "from sklearn.linear_model import LinearRegression \n",
    "model25 = LinearRegression() \n",
    "model25.fit(x25, y25) \n",
    "h25  = model25.predict(x25)\n",
    "MSE25=(1-((2*np.mean((y25-h25)**2)/2))/y25.var())\n",
    "\n",
    "print('model score  25 is : ',model25.score(x25,y25))\n",
    "print('model coef 25 is : ',model25.coef_)\n",
    "print('MSE IS 25 : ', MSE25)\n",
    "plt.plot(x25,y25,'bo')\n",
    "plt.plot(x25,h25,'r--')"
   ]
  },
  {
   "cell_type": "code",
   "execution_count": 17,
   "metadata": {},
   "outputs": [
    {
     "name": "stdout",
     "output_type": "stream",
     "text": [
      "model score  100 is :  0.9482853809556018\n",
      "model coef 100 is :  [[2.43089371]]\n",
      "MSE IS 100 :  0.9482853809556018\n"
     ]
    },
    {
     "data": {
      "text/plain": [
       "[<matplotlib.lines.Line2D at 0x1c270760>]"
      ]
     },
     "execution_count": 17,
     "metadata": {},
     "output_type": "execute_result"
    },
    {
     "data": {
      "image/png": "[encoded data removed]",
      "text/plain": [
       "<Figure size 432x288 with 1 Axes>"
      ]
     },
     "metadata": {
      "needs_background": "light"
     },
     "output_type": "display_data"
    }
   ],
   "source": [
    "from sklearn.linear_model import LinearRegression \n",
    "model100 = LinearRegression() \n",
    "model100.fit(x100, y100) \n",
    "h100  = model100.predict(x100)\n",
    "MSE100=(1-((2*np.mean((y100-h100)**2)/2))/y100.var())\n",
    "\n",
    "print('model score  100 is : ',model100.score(x100,y100))\n",
    "print('model coef 100 is : ',model100.coef_)\n",
    "print('MSE IS 100 : ', MSE100)\n",
    "plt.plot(x100,y100,'bo')\n",
    "plt.plot(x100,h100,'r--')"
   ]
  },
  {
   "cell_type": "code",
   "execution_count": 18,
   "metadata": {},
   "outputs": [
    {
     "data": {
      "text/plain": [
       "[<matplotlib.lines.Line2D at 0x1c2b7130>]"
      ]
     },
     "execution_count": 18,
     "metadata": {},
     "output_type": "execute_result"
    },
    {
     "data": {
      "image/png": "[encoded data removed]",
      "text/plain": [
       "<Figure size 432x288 with 1 Axes>"
      ]
     },
     "metadata": {
      "needs_background": "light"
     },
     "output_type": "display_data"
    }
   ],
   "source": [
    "plt.plot(x5,y5,'ko')\n",
    "plt.plot(x5,h5,'k--')\n",
    "\n",
    "plt.plot(x10,y10,'bo')\n",
    "plt.plot(x10,h10,'r--')\n",
    "plt.plot(x25,y25,'go')\n",
    "plt.plot(x25,h25,'g--')\n",
    "plt.plot(x100,y100,'yo')\n",
    "plt.plot(x100,h100,'y--')"
   ]
  },
  {
   "cell_type": "code",
   "execution_count": 19,
   "metadata": {},
   "outputs": [
    {
     "name": "stdout",
     "output_type": "stream",
     "text": [
      "model score  5 is : =0.9660331233134962 ,\n",
      "model score  10 is := 0.9313324996632696 ,\n",
      "model score  25 is := 0.9476166832713068,\n",
      "model score  100 is := 0.9482853809556018 \n"
     ]
    }
   ],
   "source": [
    "print('model score  5 is : ={} ,\\nmodel score  10 is := {} ,\\nmodel score  25 is := {},\\nmodel score  100 is := {} '.format(model5.score(x5,y5),model10.score(x10,y10),model25.score(x25,y25),model100.score(x100,y100)))"
   ]
  },
  {
   "cell_type": "code",
   "execution_count": 20,
   "metadata": {},
   "outputs": [
    {
     "name": "stdout",
     "output_type": "stream",
     "text": [
      "0.9999999970909128\n"
     ]
    },
    {
     "data": {
      "text/plain": [
       "[<matplotlib.lines.Line2D at 0x1c2e0e98>]"
      ]
     },
     "execution_count": 20,
     "metadata": {},
     "output_type": "execute_result"
    },
    {
     "data": {
      "image/png": "[encoded data removed]",
      "text/plain": [
       "<Figure size 432x288 with 1 Axes>"
      ]
     },
     "metadata": {
      "needs_background": "light"
     },
     "output_type": "display_data"
    }
   ],
   "source": [
    "from sklearn.preprocessing import PolynomialFeatures \n",
    "\n",
    "pol5= PolynomialFeatures(degree = 4)\n",
    "xpol5=pol5.fit_transform(x5)\n",
    "\n",
    "xpol5 = pol5.fit_transform(x5) \n",
    "ypol5 = 2.358 * xpol5 - 3.121\n",
    "ypol5 = ypol5 + np.random.normal(scale=3, size=y5.shape)\n",
    "pol5.fit(xpol5, ypol5) \n",
    "\n",
    "\n",
    "from sklearn.linear_model import LinearRegression \n",
    "modelpol5 = LinearRegression()\n",
    "xpol5=xpol5.reshape(-1,1)\n",
    "ypol5=ypol5.reshape(-1,1)\n",
    "modelpol5.fit(xpol5, ypol5) \n",
    "hpol5  = model5.predict(xpol5)\n",
    "\n",
    "print(modelpol5.score(xpol5,ypol5))\n",
    "\n",
    "plt.plot(xpol5,ypol5,'bo')\n",
    "plt.plot(xpol5,hpol5,'r--')"
   ]
  },
  {
   "cell_type": "code",
   "execution_count": 21,
   "metadata": {},
   "outputs": [
    {
     "name": "stdout",
     "output_type": "stream",
     "text": [
      "0.9999999925414774\n"
     ]
    },
    {
     "data": {
      "text/plain": [
       "[<matplotlib.lines.Line2D at 0x1c327e20>]"
      ]
     },
     "execution_count": 21,
     "metadata": {},
     "output_type": "execute_result"
    },
    {
     "data": {
      "image/png": "[encoded data removed]",
      "text/plain": [
       "<Figure size 432x288 with 1 Axes>"
      ]
     },
     "metadata": {
      "needs_background": "light"
     },
     "output_type": "display_data"
    }
   ],
   "source": [
    "from sklearn.preprocessing import PolynomialFeatures \n",
    "\n",
    "pol10= PolynomialFeatures(degree = 4)\n",
    "xpol10=pol10.fit_transform(x10)\n",
    "\n",
    "xpol10 = pol10.fit_transform(x10) \n",
    "ypol10 = 2.358 * xpol10 - 3.121\n",
    "ypol10 = ypol10 + np.random.normal(scale=3, size=y10.shape)\n",
    "pol10.fit(xpol10, ypol10) \n",
    "\n",
    "\n",
    "from sklearn.linear_model import LinearRegression \n",
    "modelpol10 = LinearRegression()\n",
    "xpol10=xpol10.reshape(-1,1)\n",
    "ypol10=ypol10.reshape(-1,1)\n",
    "modelpol10.fit(xpol10, ypol10) \n",
    "hpol10  = model10.predict(xpol10)\n",
    "\n",
    "print(modelpol5.score(xpol10,ypol10))\n",
    "\n",
    "plt.plot(xpol10,ypol10,'bo')\n",
    "plt.plot(xpol10,hpol10,'r--',scalex=True,scaley=True,)"
   ]
  },
  {
   "cell_type": "code",
   "execution_count": 22,
   "metadata": {},
   "outputs": [
    {
     "name": "stdout",
     "output_type": "stream",
     "text": [
      "0.9999999935190944\n"
     ]
    },
    {
     "data": {
      "text/plain": [
       "[<matplotlib.lines.Line2D at 0x1c35cca0>]"
      ]
     },
     "execution_count": 22,
     "metadata": {},
     "output_type": "execute_result"
    },
    {
     "data": {
      "image/png": "[encoded data removed]",
      "text/plain": [
       "<Figure size 432x288 with 1 Axes>"
      ]
     },
     "metadata": {
      "needs_background": "light"
     },
     "output_type": "display_data"
    }
   ],
   "source": [
    "from sklearn.preprocessing import PolynomialFeatures \n",
    "\n",
    "pol25= PolynomialFeatures(degree = 4)\n",
    "xpol25=pol25.fit_transform(x25)\n",
    "\n",
    "xpol25 = pol25.fit_transform(x25) \n",
    "ypol25 = 2.358 * xpol25 - 3.121\n",
    "ypol25 = ypol25 + np.random.normal(scale=3, size=y25.shape)\n",
    "pol25.fit(xpol25, ypol25) \n",
    "\n",
    "\n",
    "from sklearn.linear_model import LinearRegression \n",
    "modelpol25 = LinearRegression()\n",
    "xpol25=xpol25.reshape(-1,1)\n",
    "ypol25=ypol25.reshape(-1,1)\n",
    "modelpol25.fit(xpol25, ypol25) \n",
    "hpol25  = model25.predict(xpol25)\n",
    "\n",
    "print(modelpol5.score(xpol25,ypol25))\n",
    "\n",
    "plt.plot(xpol25,ypol25,'bo')\n",
    "plt.plot(xpol25,hpol25,'r--',scalex=True,scaley=True,)"
   ]
  },
  {
   "cell_type": "code",
   "execution_count": 23,
   "metadata": {},
   "outputs": [
    {
     "name": "stdout",
     "output_type": "stream",
     "text": [
      "0.999999997373594\n"
     ]
    },
    {
     "data": {
      "text/plain": [
       "[<matplotlib.lines.Line2D at 0x1c394a30>]"
      ]
     },
     "execution_count": 23,
     "metadata": {},
     "output_type": "execute_result"
    },
    {
     "data": {
      "image/png": "[encoded data removed]",
      "text/plain": [
       "<Figure size 432x288 with 1 Axes>"
      ]
     },
     "metadata": {
      "needs_background": "light"
     },
     "output_type": "display_data"
    }
   ],
   "source": [
    "from sklearn.preprocessing import PolynomialFeatures \n",
    "\n",
    "pol100= PolynomialFeatures(degree = 4)\n",
    "xpol100=pol100.fit_transform(x100)\n",
    "\n",
    "xpol100 = pol100.fit_transform(x100) \n",
    "ypol100 = 2.358 * xpol100 - 3.121\n",
    "ypol100 = ypol100 + np.random.normal(scale=3, size=y100.shape)\n",
    "pol100.fit(xpol100, ypol100) \n",
    "\n",
    "\n",
    "from sklearn.linear_model import LinearRegression \n",
    "modelpol100 = LinearRegression()\n",
    "xpol100=xpol100.reshape(-1,1)\n",
    "ypol100=ypol100.reshape(-1,1)\n",
    "modelpol100.fit(xpol100, ypol100) \n",
    "hpol100  = model100.predict(xpol100)\n",
    "\n",
    "print(modelpol100.score(xpol100,ypol100))\n",
    "\n",
    "plt.plot(xpol100,ypol100,'bo')\n",
    "plt.plot(xpol100,hpol100,'r--',scalex=True,scaley=True,)"
   ]
  },
  {
   "cell_type": "code",
   "execution_count": 24,
   "metadata": {},
   "outputs": [
    {
     "name": "stdout",
     "output_type": "stream",
     "text": [
      "model score  5 is : =0.9660331233134962 ,\n",
      "model score  10 is := 0.9313324996632696 ,\n",
      "model score  25 is := 0.9476166832713068,\n",
      "model score  100 is := 0.9482853809556018 \n",
      "model score  5  in 4 is : =0.9999999970909128 ,\n",
      "model score  10 in 4 is := 0.9999999925875204 ,\n",
      "model score  25 in 4 is := 0.9999999941017753,\n",
      "model score  100 in 4 is := 0.999999997373594 \n"
     ]
    }
   ],
   "source": [
    "\n",
    "print('model score  5 is : ={} ,\\nmodel score  10 is := {} ,\\nmodel score  25 is := {},\\nmodel score  100 is := {} '.format(model5.score(x5,y5),model10.score(x10,y10),model25.score(x25,y25),model100.score(x100,y100)))\n",
    "\n",
    "\n",
    "print('model score  5  in 4 is : ={} ,\\nmodel score  10 in 4 is := {} ,\\nmodel score  25 in 4 is := {},\\nmodel score  100 in 4 is := {} '.format(modelpol5.score(xpol5,ypol5),modelpol10.score(xpol10,ypol10),modelpol25.score(xpol25,ypol25),modelpol100.score(xpol100,ypol100)))\n"
   ]
  },
  {
   "cell_type": "code",
   "execution_count": 26,
   "metadata": {},
   "outputs": [
    {
     "name": "stdout",
     "output_type": "stream",
     "text": [
      "1.0\n"
     ]
    },
    {
     "data": {
      "text/plain": [
       "[<matplotlib.lines.Line2D at 0x1d3c7688>]"
      ]
     },
     "execution_count": 26,
     "metadata": {},
     "output_type": "execute_result"
    },
    {
     "data": {
      "image/png": "[encoded data removed]",
      "text/plain": [
       "<Figure size 432x288 with 1 Axes>"
      ]
     },
     "metadata": {
      "needs_background": "light"
     },
     "output_type": "display_data"
    }
   ],
   "source": [
    "from sklearn.preprocessing import PolynomialFeatures \n",
    "\n",
    "pol516= PolynomialFeatures(degree = 16)\n",
    "xpol516=pol516.fit_transform(x5)\n",
    "\n",
    "ypol516 = 2.358 * xpol516 - 3.121\n",
    "ypol516 = ypol516 + np.random.normal(scale=3, size=y5.shape)\n",
    "pol516.fit(xpol516, ypol516) \n",
    "\n",
    "\n",
    "from sklearn.linear_model import LinearRegression \n",
    "modelpol516 = LinearRegression(n_jobs=2)\n",
    "xpol516=xpol516.reshape(-1,1)\n",
    "ypol516=ypol516.reshape(-1,1)\n",
    "modelpol516.fit(xpol516, ypol516) \n",
    "hpol516  = modelpol516.predict(xpol516)\n",
    "\n",
    "print(modelpol516.score(xpol516,ypol516))\n",
    "\n",
    "plt.plot(xpol516,ypol516,'bo')\n",
    "plt.plot(xpol516,hpol516,'r--')"
   ]
  },
  {
   "cell_type": "code",
   "execution_count": 27,
   "metadata": {
    "scrolled": true
   },
   "outputs": [
    {
     "name": "stdout",
     "output_type": "stream",
     "text": [
      "1.0\n"
     ]
    },
    {
     "data": {
      "text/plain": [
       "[<matplotlib.lines.Line2D at 0x54eb9d0>]"
      ]
     },
     "execution_count": 27,
     "metadata": {},
     "output_type": "execute_result"
    },
    {
     "data": {
      "image/png": "[encoded data removed]",
      "text/plain": [
       "<Figure size 432x288 with 1 Axes>"
      ]
     },
     "metadata": {
      "needs_background": "light"
     },
     "output_type": "display_data"
    }
   ],
   "source": [
    "from sklearn.preprocessing import PolynomialFeatures \n",
    "\n",
    "pol1016= PolynomialFeatures(degree = 16)\n",
    "xpol1016=pol1016.fit_transform(x10)\n",
    "\n",
    "ypol1016 = 2.358 * xpol1016 - 3.121\n",
    "ypol1016 = ypol1016 + np.random.normal(scale=3, size=y10.shape)\n",
    "pol1016.fit(xpol1016, ypol1016) \n",
    "\n",
    "\n",
    "from sklearn.linear_model import LinearRegression \n",
    "modelpol1016 = LinearRegression(n_jobs=5)\n",
    "xpol1016=xpol1016.reshape(-1,1)\n",
    "ypol1016=ypol1016.reshape(-1,1)\n",
    "modelpol1016.fit(xpol1016, ypol1016) \n",
    "hpol1016  = modelpol1016.predict(xpol1016)\n",
    "\n",
    "print(modelpol1016.score(xpol1016,ypol1016))\n",
    "\n",
    "plt.plot(xpol1016,ypol1016,'bo')\n",
    "plt.plot(xpol1016,hpol1016,'r--')"
   ]
  },
  {
   "cell_type": "code",
   "execution_count": 28,
   "metadata": {},
   "outputs": [
    {
     "name": "stdout",
     "output_type": "stream",
     "text": [
      "1.0\n"
     ]
    },
    {
     "data": {
      "text/plain": [
       "[<matplotlib.lines.Line2D at 0x5522460>]"
      ]
     },
     "execution_count": 28,
     "metadata": {},
     "output_type": "execute_result"
    },
    {
     "data": {
      "image/png": "[encoded data removed]",
      "text/plain": [
       "<Figure size 432x288 with 1 Axes>"
      ]
     },
     "metadata": {
      "needs_background": "light"
     },
     "output_type": "display_data"
    }
   ],
   "source": [
    "from sklearn.preprocessing import PolynomialFeatures \n",
    "\n",
    "pol2516= PolynomialFeatures(degree = 16)\n",
    "xpol2516=pol516.fit_transform(x25)\n",
    "\n",
    "ypol2516 = 2.358 * xpol2516 - 3.121\n",
    "ypol2516 = ypol2516 + np.random.normal(scale=3, size=y25.shape)\n",
    "pol2516.fit(xpol2516, ypol2516) \n",
    "\n",
    "\n",
    "from sklearn.linear_model import LinearRegression \n",
    "modelpol2516 = LinearRegression(n_jobs=5)\n",
    "xpol2516=xpol2516.reshape(-1,1)\n",
    "ypol2516=ypol2516.reshape(-1,1)\n",
    "modelpol2516.fit(xpol2516, ypol2516) \n",
    "hpol2516  = modelpol2516.predict(xpol2516)\n",
    "\n",
    "print(modelpol2516.score(xpol2516,ypol2516))\n",
    "\n",
    "plt.plot(xpol2516,ypol2516,'bo')\n",
    "plt.plot(xpol2516,hpol2516,'r--')"
   ]
  },
  {
   "cell_type": "code",
   "execution_count": 29,
   "metadata": {},
   "outputs": [
    {
     "name": "stdout",
     "output_type": "stream",
     "text": [
      "1.0\n"
     ]
    },
    {
     "data": {
      "text/plain": [
       "[<matplotlib.lines.Line2D at 0x1c2fef88>]"
      ]
     },
     "execution_count": 29,
     "metadata": {},
     "output_type": "execute_result"
    },
    {
     "data": {
      "image/png": "[encoded data removed]",
      "text/plain": [
       "<Figure size 432x288 with 1 Axes>"
      ]
     },
     "metadata": {
      "needs_background": "light"
     },
     "output_type": "display_data"
    }
   ],
   "source": [
    "from sklearn.preprocessing import PolynomialFeatures \n",
    "\n",
    "pol10016= PolynomialFeatures(degree = 16)\n",
    "xpol10016=pol10016.fit_transform(x100)\n",
    "\n",
    "ypol10016 = 2.358 * xpol10016 - 3.121\n",
    "ypol10016 = ypol10016 + np.random.normal(scale=3, size=y100.shape)\n",
    "pol10016.fit(xpol10016, ypol10016) \n",
    "\n",
    "\n",
    "from sklearn.linear_model import LinearRegression \n",
    "modelpol10016 = LinearRegression(n_jobs=5)\n",
    "xpol10016=xpol10016.reshape(-1,1)\n",
    "ypol10016=ypol10016.reshape(-1,1)\n",
    "modelpol10016.fit(xpol10016, ypol10016) \n",
    "hpol10016  = modelpol10016.predict(xpol10016)\n",
    "\n",
    "print(modelpol10016.score(xpol10016,ypol10016))\n",
    "\n",
    "plt.plot(xpol10016,ypol10016,'bo')\n",
    "plt.plot(xpol10016,hpol10016,'r--')"
   ]
  },
  {
   "cell_type": "code",
   "execution_count": 90,
   "metadata": {},
   "outputs": [
    {
     "ename": "MemoryError",
     "evalue": "Unable to allocate 737. MiB for an array with shape (1, 96560646) and data type float64",
     "output_type": "error",
     "traceback": [
      "\u001b[1;31m---------------------------------------------------------------------------\u001b[0m",
      "\u001b[1;31mMemoryError\u001b[0m                               Traceback (most recent call last)",
      "\u001b[1;32m<ipython-input-90-b874de35a158>\u001b[0m in \u001b[0;36m<module>\u001b[1;34m\u001b[0m\n\u001b[0;32m      9\u001b[0m         \u001b[0mpol_i\u001b[0m\u001b[1;33m=\u001b[0m \u001b[0mPolynomialFeatures\u001b[0m\u001b[1;33m(\u001b[0m\u001b[0mdegree\u001b[0m \u001b[1;33m=\u001b[0m \u001b[0mi\u001b[0m\u001b[1;33m)\u001b[0m\u001b[1;33m\u001b[0m\u001b[1;33m\u001b[0m\u001b[0m\n\u001b[0;32m     10\u001b[0m         \u001b[0mxpol_i\u001b[0m\u001b[1;33m=\u001b[0m\u001b[0mpol_i\u001b[0m\u001b[1;33m.\u001b[0m\u001b[0mfit_transform\u001b[0m\u001b[1;33m(\u001b[0m\u001b[0mx_i\u001b[0m\u001b[1;33m)\u001b[0m\u001b[1;33m\u001b[0m\u001b[1;33m\u001b[0m\u001b[0m\n\u001b[1;32m---> 11\u001b[1;33m         \u001b[0mypol_i\u001b[0m \u001b[1;33m=\u001b[0m \u001b[1;36m2.358\u001b[0m \u001b[1;33m*\u001b[0m \u001b[0mxpol_i\u001b[0m \u001b[1;33m-\u001b[0m \u001b[1;36m3.121\u001b[0m\u001b[1;33m\u001b[0m\u001b[1;33m\u001b[0m\u001b[0m\n\u001b[0m\u001b[0;32m     12\u001b[0m         \u001b[1;31m#ypol_i = ypol_i + np.random.normal(scale=3, size=y_i.shape)\u001b[0m\u001b[1;33m\u001b[0m\u001b[1;33m\u001b[0m\u001b[1;33m\u001b[0m\u001b[0m\n\u001b[0;32m     13\u001b[0m         \u001b[1;32mfrom\u001b[0m \u001b[0msklearn\u001b[0m\u001b[1;33m.\u001b[0m\u001b[0mlinear_model\u001b[0m \u001b[1;32mimport\u001b[0m \u001b[0mLinearRegression\u001b[0m\u001b[1;33m\u001b[0m\u001b[1;33m\u001b[0m\u001b[0m\n",
      "\u001b[1;31mMemoryError\u001b[0m: Unable to allocate 737. MiB for an array with shape (1, 96560646) and data type float64"
     ]
    }
   ],
   "source": [
    "from sklearn.preprocessing import PolynomialFeatures\n",
    "l=[]\n",
    "f=[]\n",
    "jj=[5,10,25,100]\n",
    "for i in range (1,10):\n",
    "    for j in jj:\n",
    "        x_i=np.random.rand(1,j)*20\n",
    "      \n",
    "        pol_i= PolynomialFeatures(degree = i)\n",
    "        xpol_i=pol_i.fit_transform(x_i)\n",
    "        ypol_i = 2.358 * xpol_i - 3.121\n",
    "        #ypol_i = ypol_i + np.random.normal(scale=3, size=y_i.shape)\n",
    "        from sklearn.linear_model import LinearRegression \n",
    "        model_i = LinearRegression() \n",
    "        xpol_i=xpol_i.reshape(-1,1)\n",
    "        ypol_i=ypol_i.reshape(-1,1)\n",
    "        model_i.fit(xpol_i,ypol_i)\n",
    "        #f.append(xpoli,ypoli)\n",
    "        l.append(model_i.score(xpol_i,ypol_i))\n",
    "print(l,f)\n",
    "plt.plot()"
   ]
  },
  {
   "cell_type": "code",
   "execution_count": 72,
   "metadata": {},
   "outputs": [
    {
     "data": {
      "text/plain": [
       "[]"
      ]
     },
     "execution_count": 72,
     "metadata": {},
     "output_type": "execute_result"
    }
   ],
   "source": [
    "l"
   ]
  },
  {
   "cell_type": "code",
   "execution_count": null,
   "metadata": {},
   "outputs": [],
   "source": [
    "from sklearn.preprocessing import PolynomialFeatures\n",
    "l=[]\n",
    "f=[]\n",
    "jj=[5,10,25,100]\n",
    "for i in range (1,10):\n",
    "    for j in jj :\n",
    "        x_i=np.random.rand(1,j)*20 \n",
    "        pol_i= PolynomialFeatures(degree = i)\n",
    "        xpol_i=pol_i.fit_transform(x_i)\n",
    "        ypol_i = 2.358 * xpol_i - 3.121\n",
    "        from sklearn.linear_model import LinearRegression \n",
    "        model_i = LinearRegression() \n",
    "        xpol_i=xpol_i.reshape(-1,1)\n",
    "        ypol_i=ypol_i.reshape(-1,1)\n",
    "        model_i.fit(xpol_i,ypol_i)\n",
    "        \n",
    "        #l.append(model_i.score(xpol_i,ypol_i))\n",
    "print(l,f)\n",
    "plt.plot()"
   ]
  },
  {
   "cell_type": "code",
   "execution_count": null,
   "metadata": {},
   "outputs": [],
   "source": []
  },
  {
   "cell_type": "code",
   "execution_count": 91,
   "metadata": {},
   "outputs": [
    {
     "ename": "MemoryError",
     "evalue": "Unable to allocate 737. MiB for an array with shape (1, 96560646) and data type float64",
     "output_type": "error",
     "traceback": [
      "\u001b[1;31m---------------------------------------------------------------------------\u001b[0m",
      "\u001b[1;31mMemoryError\u001b[0m                               Traceback (most recent call last)",
      "\u001b[1;32m<ipython-input-91-b874de35a158>\u001b[0m in \u001b[0;36m<module>\u001b[1;34m\u001b[0m\n\u001b[0;32m      9\u001b[0m         \u001b[0mpol_i\u001b[0m\u001b[1;33m=\u001b[0m \u001b[0mPolynomialFeatures\u001b[0m\u001b[1;33m(\u001b[0m\u001b[0mdegree\u001b[0m \u001b[1;33m=\u001b[0m \u001b[0mi\u001b[0m\u001b[1;33m)\u001b[0m\u001b[1;33m\u001b[0m\u001b[1;33m\u001b[0m\u001b[0m\n\u001b[0;32m     10\u001b[0m         \u001b[0mxpol_i\u001b[0m\u001b[1;33m=\u001b[0m\u001b[0mpol_i\u001b[0m\u001b[1;33m.\u001b[0m\u001b[0mfit_transform\u001b[0m\u001b[1;33m(\u001b[0m\u001b[0mx_i\u001b[0m\u001b[1;33m)\u001b[0m\u001b[1;33m\u001b[0m\u001b[1;33m\u001b[0m\u001b[0m\n\u001b[1;32m---> 11\u001b[1;33m         \u001b[0mypol_i\u001b[0m \u001b[1;33m=\u001b[0m \u001b[1;36m2.358\u001b[0m \u001b[1;33m*\u001b[0m \u001b[0mxpol_i\u001b[0m \u001b[1;33m-\u001b[0m \u001b[1;36m3.121\u001b[0m\u001b[1;33m\u001b[0m\u001b[1;33m\u001b[0m\u001b[0m\n\u001b[0m\u001b[0;32m     12\u001b[0m         \u001b[1;31m#ypol_i = ypol_i + np.random.normal(scale=3, size=y_i.shape)\u001b[0m\u001b[1;33m\u001b[0m\u001b[1;33m\u001b[0m\u001b[1;33m\u001b[0m\u001b[0m\n\u001b[0;32m     13\u001b[0m         \u001b[1;32mfrom\u001b[0m \u001b[0msklearn\u001b[0m\u001b[1;33m.\u001b[0m\u001b[0mlinear_model\u001b[0m \u001b[1;32mimport\u001b[0m \u001b[0mLinearRegression\u001b[0m\u001b[1;33m\u001b[0m\u001b[1;33m\u001b[0m\u001b[0m\n",
      "\u001b[1;31mMemoryError\u001b[0m: Unable to allocate 737. MiB for an array with shape (1, 96560646) and data type float64"
     ]
    }
   ],
   "source": [
    "from sklearn.preprocessing import PolynomialFeatures\n",
    "l=[]\n",
    "f=[]\n",
    "jj=[5,10,25,100]\n",
    "for i in range (1,10):\n",
    "    for j in jj:\n",
    "        x_i=np.random.rand(1,j)*20\n",
    "      \n",
    "        pol_i= PolynomialFeatures(degree = i)\n",
    "        xpol_i=pol_i.fit_transform(x_i)\n",
    "        ypol_i = 2.358 * xpol_i - 3.121\n",
    "        #ypol_i = ypol_i + np.random.normal(scale=3, size=y_i.shape)\n",
    "        from sklearn.linear_model import LinearRegression \n",
    "        model_i = LinearRegression() \n",
    "        xpol_i=xpol_i.reshape(-1,1)\n",
    "        ypol_i=ypol_i.reshape(-1,1)\n",
    "        model_i.fit(xpol_i,ypol_i)\n",
    "        #f.append(xpoli,ypoli)\n",
    "        l.append(model_i.score(xpol_i,ypol_i))\n",
    "print(l,f)\n",
    "plt.plot()"
   ]
  },
  {
   "cell_type": "code",
   "execution_count": 101,
   "metadata": {},
   "outputs": [
    {
     "name": "stdout",
     "output_type": "stream",
     "text": [
      "[1.0, 1.0, 1.0, 1.0, 1.0, 1.0, 1.0, 1.0, 1.0] []\n"
     ]
    },
    {
     "data": {
      "image/png": "[encoded data removed]",
      "text/plain": [
       "<Figure size 432x288 with 1 Axes>"
      ]
     },
     "metadata": {
      "needs_background": "light"
     },
     "output_type": "display_data"
    }
   ],
   "source": [
    "from sklearn.preprocessing import PolynomialFeatures\n",
    "l=[]\n",
    "f=[]\n",
    "jj=[5,10,25,100]\n",
    "for i in range (1,10):\n",
    "    \n",
    "    x_i=np.random.rand(1,10)*20\n",
    "      \n",
    "    pol_i= PolynomialFeatures(degree = i)\n",
    "    xpol_i=pol_i.fit_transform(x_i)\n",
    "    ypol_i = 2.358 * xpol_i - 3.121\n",
    "        #ypol_i = ypol_i + np.random.normal(scale=3, size=y_i.shape)\n",
    "    from sklearn.linear_model import LinearRegression \n",
    "    model_i = LinearRegression() \n",
    "    xpol_i=xpol_i.reshape(-1,1)\n",
    "    ypol_i=ypol_i.reshape(-1,1)\n",
    "    model_i.fit(xpol_i,ypol_i)\n",
    "    plt.plot(xpol_i,ypol_i)\n",
    "        #f.append(xpoli,ypoli)\n",
    "    l.append(model_i.score(xpol_i,ypol_i))\n",
    "print(l,f)\n"
   ]
  },
  {
   "cell_type": "code",
   "execution_count": 98,
   "metadata": {},
   "outputs": [
    {
     "ename": "MemoryError",
     "evalue": "Unable to allocate 400. MiB for an array with shape (1, 52451256) and data type float64",
     "output_type": "error",
     "traceback": [
      "\u001b[1;31m---------------------------------------------------------------------------\u001b[0m",
      "\u001b[1;31mMemoryError\u001b[0m                               Traceback (most recent call last)",
      "\u001b[1;32m<ipython-input-98-74ce6eb0e90b>\u001b[0m in \u001b[0;36m<module>\u001b[1;34m\u001b[0m\n\u001b[0;32m     11\u001b[0m         \u001b[0mpol_i\u001b[0m\u001b[1;33m=\u001b[0m \u001b[0mPolynomialFeatures\u001b[0m\u001b[1;33m(\u001b[0m\u001b[0mdegree\u001b[0m \u001b[1;33m=\u001b[0m \u001b[0mi\u001b[0m\u001b[1;33m)\u001b[0m\u001b[1;33m\u001b[0m\u001b[1;33m\u001b[0m\u001b[0m\n\u001b[0;32m     12\u001b[0m         \u001b[0mxpol_i\u001b[0m\u001b[1;33m=\u001b[0m\u001b[0mpol_i\u001b[0m\u001b[1;33m.\u001b[0m\u001b[0mfit_transform\u001b[0m\u001b[1;33m(\u001b[0m\u001b[0mx_i\u001b[0m\u001b[1;33m)\u001b[0m\u001b[1;33m\u001b[0m\u001b[1;33m\u001b[0m\u001b[0m\n\u001b[1;32m---> 13\u001b[1;33m         \u001b[0mypol_i\u001b[0m \u001b[1;33m=\u001b[0m \u001b[1;36m2.358\u001b[0m \u001b[1;33m*\u001b[0m \u001b[0mxpol_i\u001b[0m \u001b[1;33m-\u001b[0m \u001b[1;36m3.121\u001b[0m\u001b[1;33m\u001b[0m\u001b[1;33m\u001b[0m\u001b[0m\n\u001b[0m\u001b[0;32m     14\u001b[0m         \u001b[1;31m#ypol_i = ypol_i + np.random.normal(scale=3, size=y_i.shape)\u001b[0m\u001b[1;33m\u001b[0m\u001b[1;33m\u001b[0m\u001b[1;33m\u001b[0m\u001b[0m\n\u001b[0;32m     15\u001b[0m         \u001b[1;32mfrom\u001b[0m \u001b[0msklearn\u001b[0m\u001b[1;33m.\u001b[0m\u001b[0mlinear_model\u001b[0m \u001b[1;32mimport\u001b[0m \u001b[0mLinearRegression\u001b[0m\u001b[1;33m\u001b[0m\u001b[1;33m\u001b[0m\u001b[0m\n",
      "\u001b[1;31mMemoryError\u001b[0m: Unable to allocate 400. MiB for an array with shape (1, 52451256) and data type float64"
     ]
    }
   ],
   "source": [
    "from sklearn.preprocessing import PolynomialFeatures\n",
    "l=[]\n",
    "f=[]\n",
    "jj=[5,10,25,100]\n",
    "\n",
    "\n",
    "for j in jj:\n",
    "    for i in range(1,10):\n",
    "        x_i=np.random.rand(1,j)*20\n",
    "      \n",
    "        pol_i= PolynomialFeatures(degree = i)\n",
    "        xpol_i=pol_i.fit_transform(x_i)\n",
    "        ypol_i = 2.358 * xpol_i - 3.121\n",
    "        #ypol_i = ypol_i + np.random.normal(scale=3, size=y_i.shape)\n",
    "        from sklearn.linear_model import LinearRegression \n",
    "        model_i = LinearRegression() \n",
    "        xpol_i=xpol_i.reshape(-1,1)\n",
    "        ypol_i=ypol_i.reshape(-1,1)\n",
    "        model_i.fit(xpol_i,ypol_i)\n",
    "        #f.append(xpoli,ypoli)\n",
    "        l.append(model_i.score(xpol_i,ypol_i))\n",
    "print(l,f)\n",
    "plt.plot()"
   ]
  },
  {
   "cell_type": "code",
   "execution_count": null,
   "metadata": {},
   "outputs": [],
   "source": []
  }
 ],
 "metadata": {
  "kernelspec": {
   "display_name": "Python 3",
   "language": "python",
   "name": "python3"
  },
  "language_info": {
   "codemirror_mode": {
    "name": "ipython",
    "version": 3
   },
   "file_extension": ".py",
   "mimetype": "text/x-python",
   "name": "python",
   "nbconvert_exporter": "python",
   "pygments_lexer": "ipython3",
   "version": "3.8.2"
  }
 },
 "nbformat": 4,
 "nbformat_minor": 4
}
